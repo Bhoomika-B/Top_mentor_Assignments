{
 "cells": [
  {
   "cell_type": "markdown",
   "metadata": {},
   "source": [
    "# Problems of 'if' statement:"
   ]
  },
  {
   "cell_type": "markdown",
   "metadata": {},
   "source": [
    "1. Write a program that reads an integer from the user. Then your program should display a message indicating whether the integer is even or odd."
   ]
  },
  {
   "cell_type": "code",
   "execution_count": null,
   "metadata": {},
   "outputs": [],
   "source": [
    "num=int(input('Enter number: '))\n",
    "if(num%2 == 0):\n",
    "    print(f'Entered number {num} is Even')\n",
    "else:\n",
    "    print(f'Entered number {num} is odd')"
   ]
  },
  {
   "cell_type": "markdown",
   "metadata": {},
   "source": [
    "2. Write a program that implements the conversion from human years to dog years described in the previous paragraph. Ensure that your program works correctly for conversions of less than two human years and for conversions of two or more human years. Your program should display an appropriate error message if the user enters a negative number."
   ]
  },
  {
   "cell_type": "code",
   "execution_count": null,
   "metadata": {},
   "outputs": [],
   "source": []
  },
  {
   "cell_type": "markdown",
   "metadata": {},
   "source": [
    "3. Create a program that reads a letter of the alphabet from the user. If the user enters a, e, i, o or u then your program should display a message indicating that the entered letter is a vowel. If the user enters y then your program should display a message indicating that sometimes y is a vowel, and sometimes y is a consonant. Otherwise your program should display a message indicating that the letter is a consonant."
   ]
  },
  {
   "cell_type": "code",
   "execution_count": null,
   "metadata": {},
   "outputs": [],
   "source": [
    "letter=input('Enter the alphabet:')\n",
    "l=letter.upper()\n",
    "if(l=='a'):\n",
    "    print(f'Entered letter {l} is Vowel')\n",
    "elif(l=='e'):\n",
    "    print(f'Entered letter {l} is Vowel')\n",
    "elif(l=='i'):\n",
    "    print(f'Entered letter {l} is Vowel')\n",
    "elif(l=='o'):\n",
    "    print(f'Entered letter {l} is Vowel')\n",
    "elif(l=='u'):\n",
    "    print(f'Entered letter {l} is Vowel')\n",
    "elif(l=='y'):\n",
    "    print(f'Entered letter {l} is somtimes vowel and sometimes consonants')\n",
    "else:\n",
    "    print(f'Entered letter {l} is Consonant')"
   ]
  },
  {
   "cell_type": "markdown",
   "metadata": {},
   "source": [
    "4. Write a program that determines the name of a shape from its number of sides. Read the number of sides from the user and then report the appropriate name as part of a meaningful message. Your program should support shapes with anywhere from 3 up to (and including) 10 sides. If a number of sides outside of this range is entered then your program should display an appropriate error message."
   ]
  },
  {
   "cell_type": "code",
   "execution_count": null,
   "metadata": {},
   "outputs": [],
   "source": [
    "s=int(input('Enter the number of sides in a shape from 3 to 10:'))\n",
    "if(s==3):\n",
    "    print(f'If number of sides in a shape is {s}, then it is Triangle')\n",
    "elif(s==4):\n",
    "    print(f'If number of sides in a shape is {s}, then it is Square')\n",
    "elif(s==5):\n",
    "    print(f'If number of sides in a shape is {s}, then it is Pentagon')\n",
    "elif(s==6):\n",
    "    print(f'If number of sides in a shape is {s}, then it is Hexagon')\n",
    "elif(s==7):\n",
    "    print(f'If number of sides in a shape is {s}, then it is Heptagon')\n",
    "elif(s==8):\n",
    "    print(f'If number of sides in a shape is {s}, then it is Octagon')\n",
    "elif(s==9):\n",
    "    print(f'If number of sides in a shape is {s}, then it is Nonagon')\n",
    "elif(s==10):\n",
    "    print(f'If number of sides in a shape is {s}, then it is Decagon')\n",
    "else:\n",
    "    print('Entered number of side is out of range')"
   ]
  },
  {
   "cell_type": "markdown",
   "metadata": {},
   "source": [
    "5. The length of a month varies from 28 to 31 days. In this exercise you will create a program that reads the name of a month from the user as a string. Then your program should display the number of days in that month. Display “28 or 29 days” for February so that leap years are addressed."
   ]
  },
  {
   "cell_type": "code",
   "execution_count": null,
   "metadata": {},
   "outputs": [],
   "source": [
    "month=input('Enter name of the month in full form: ')\n",
    "m=month.title()\n",
    "if(m=='January'or m=='March' or m=='May'or m=='July'or m=='August' or m== 'October'or m=='December'):\n",
    "    print(f'Month {m} has 31 days')\n",
    "elif(m=='February'):\n",
    "    print(f'Month {m} has 28 or 29 days')\n",
    "else:\n",
    "    print(f'Month {m} has 30 days')"
   ]
  },
  {
   "cell_type": "markdown",
   "metadata": {},
   "source": [
    "6. The following table lists the sound level in decibels for several common noises.\n",
    "\n",
    "Noise                      Decibel level (dB)\n",
    "\n",
    "Jackhammer                     130\n",
    "\n",
    "Gas lawnmower                  106\n",
    "\n",
    "Alarm clock                     70\n",
    "\n",
    "Quiet room                      40\n",
    "\n",
    "\n",
    "Write a program that reads a sound level in decibels from the user. If the user \n",
    "enters a decibel level that matches one of the noises in the table then your \n",
    "program should display a message containing only that noise. If the user enters a number of decibels between the noises listed then your program \n",
    "should display a message indicating which noises the level is between. Ensure \n",
    "that your program also generates reasonable output for a value smaller than \n",
    "the quietest noise in the table, and for a value larger than the loudest noise in \n",
    "the table."
   ]
  },
  {
   "cell_type": "code",
   "execution_count": null,
   "metadata": {},
   "outputs": [],
   "source": [
    "n=int(input('Enter the sound level in Decibel(dB)'))\n",
    "if(n in range(30,60)):\n",
    "    print('Quiet room')\n",
    "elif(n in range(60,100)):\n",
    "    print('Alarm clock')\n",
    "elif(n in range(100,120)):\n",
    "    print('Gas lawnmower')\n",
    "elif(n in range(120,140)):\n",
    "    print('Jackhammer')\n",
    "elif(n in range(30)):\n",
    "    print('Sound level is very short and possess Quiestest noise')\n",
    "else:\n",
    "    print('Sound level is very large and possess Loudest noise')\n",
    "    "
   ]
  },
  {
   "cell_type": "markdown",
   "metadata": {},
   "source": [
    "7. The following table lists an octave of music notes, beginning with middle C, along with their frequencies.\n",
    "\n",
    "Note Frequency (Hz)\n",
    "\n",
    "C4 261.63\n",
    "\n",
    "D4 293.66\n",
    "\n",
    "E4 329.63\n",
    "\n",
    "F4 349.23\n",
    "\n",
    "G4 392.00\n",
    "\n",
    "A4 440.00\n",
    "\n",
    "B4 493.88\n",
    "\n",
    "Begin by writing a program that reads the name of a note from the user and displays the note’s frequency. Your program should support all of the notes listed previously Once you have your program working correctly for the notes listed previously you should add support for all of the notes from C0 to C8. While this could be done by adding many additional cases to your if statement, such a solution is cumbersome, inelegant and unacceptable for the purposes of this exercise. Instead, you should exploit the relationship between notes in adjacent octaves. In particular, the frequency of any note in octave n is half the frequency of the corresponding note in octave n+1n+1. By using this relationship, you should be able to add support for the additional notes without adding additional cases to your if statement.\n",
    "\n",
    "Hint: To complete this exercise you will need to extract individual characters from the two-character note name so that you can work with the letter and the octave number separately. Once you have separated the parts, compute the \n",
    "frequency of the note in the fourth octave using the data in the table above. Then divide the frequency by 24−x24−x, where xx is the octave number entered by the user. This will halve or double the frequency the correct number of times."
   ]
  },
  {
   "cell_type": "code",
   "execution_count": null,
   "metadata": {},
   "outputs": [],
   "source": [
    "\n"
   ]
  },
  {
   "cell_type": "markdown",
   "metadata": {},
   "source": [
    "8. In the previous question you converted from note name to frequency. \n",
    "In this question you will write a program that reverses that process. \n",
    "Begin by reading a frequency from the user. If the frequency is within \n",
    "one Hertz of a value listed in the table in the previous question then \n",
    "report the name of the note. Otherwise report that the frequency does \n",
    "not correspond to a known note. In this exercise you only need to \n",
    "consider the notes listed in the table. There is no need to consider notes \n",
    "from other octaves.\n",
    "\n",
    "C4 261.63\n",
    "\n",
    "D4 293.66\n",
    "\n",
    "E4 329.63\n",
    "\n",
    "F4 349.23\n",
    "\n",
    "G4 392.00\n",
    "\n",
    "A4 440.00\n",
    "\n",
    "B4 493.88"
   ]
  },
  {
   "cell_type": "code",
   "execution_count": 1,
   "metadata": {},
   "outputs": [
    {
     "name": "stdout",
     "output_type": "stream",
     "text": [
      "Enter frequency value in hertz:349.23\n",
      "F4\n"
     ]
    }
   ],
   "source": [
    "f=(input('Enter frequency value in hertz:'))\n",
    "n={'261.63':'C4','293.66':'D4','329.63':'E4','349.23':'F4','392.00':'G4','440.00':'A4','493.88':'B4'}\n",
    "if(f in n):\n",
    "    print(n[f])\n",
    "else:\n",
    "    print('not in table list')"
   ]
  },
  {
   "cell_type": "markdown",
   "metadata": {},
   "source": [
    "9. The wavelength of visible light ranges from 380 to 750 nanometers \n",
    "(nm). While the spectrum is continuous, it is often divided into 6 colors \n",
    "as shown below:\n",
    "    \n",
    "Color Wavelength (nm)\n",
    "\n",
    "Violet 380 to less than 450\n",
    "\n",
    "Blue 450 to less than 495\n",
    "\n",
    "Green 495 to less than 570\n",
    "\n",
    "Yellow 570 to less than 590\n",
    "\n",
    "Orange 590 to less than 620\n",
    "\n",
    "Red 620 to 750\n",
    "\n",
    "Write a program that reads a wavelength from the user and reports its \n",
    "color. Display an appropriate error message if the wavelength entered by the \n",
    "user is outside of the visible spectrum."
   ]
  },
  {
   "cell_type": "code",
   "execution_count": 11,
   "metadata": {},
   "outputs": [
    {
     "name": "stdout",
     "output_type": "stream",
     "text": [
      "Enter wavelength of the color:599\n",
      "Orange\n"
     ]
    }
   ],
   "source": [
    "w=int(input('Enter wavelength of the color:'))\n",
    "if(w in range(380,450)):\n",
    "    print('Voilet')\n",
    "elif(w in range(450,495)):\n",
    "    print('Blue')\n",
    "elif(w in range(495,570)):\n",
    "    print('Green')\n",
    "elif(w in range(570,590)):\n",
    "    print('Yellow')\n",
    "elif(w in range(590,620)):\n",
    "    print('Orange')\n",
    "elif(w in range(620,750)):\n",
    "    print('Red')\n",
    "else:\n",
    "    print(f'Wavelength {w} is outside of the visible spectrum')"
   ]
  },
  {
   "cell_type": "markdown",
   "metadata": {},
   "source": [
    "# Problems on Lists:"
   ]
  },
  {
   "cell_type": "markdown",
   "metadata": {},
   "source": [
    "1.When analysing data collected as part of a science experiment it may be \n",
    "desirable to remove the most extreme values before performing other \n",
    "calculations. Write a function that takes a list of values and an non\u0002negative integer, n, as its parameters. The function should create a new \n",
    "copy of the list with the n largest elements and the n smallest elements \n",
    "removed. Then it should return the new copy of the list as the function’s \n",
    "only result. The order of the elements in the returned list does not have \n",
    "to match the order of the elements in the original list.\n",
    "\n",
    "Write a main program that demonstrates your function. Your function \n",
    "should read a list of numbers from the user and remove the two largest \n",
    "two smallest values from it. Display the list with the outliers \n",
    "removed, followed by the original list. Your program should generate an \n",
    "appropriate error message if the user enters less than 4 values"
   ]
  },
  {
   "cell_type": "code",
   "execution_count": 2,
   "metadata": {},
   "outputs": [
    {
     "name": "stdout",
     "output_type": "stream",
     "text": [
      "Enter size of the list: 6\n",
      "Enter number to be in the list\n",
      "1\n",
      "2\n",
      "3\n",
      "4\n",
      "5\n",
      "6\n",
      "Original list is: [1, 2, 3, 4, 5, 6]\n",
      "Outliers are: [1, 2, 5, 6]\n",
      "After removing outliers: [3, 4]\n"
     ]
    }
   ],
   "source": [
    "#Method 1:\n",
    "n=int(input('Enter size of the list: '))\n",
    "l=[]\n",
    "if (n<4):\n",
    "  print(f'Size {n} is not applicable, Please enter the size more than 4') \n",
    "else:\n",
    "  print('Enter number to be in the list')\n",
    "  for i in range(1,n+1):\n",
    "    a=int(input())\n",
    "    l.append(a)\n",
    "  sort=sorted(l)\n",
    "  ol=[sort[0],sort[1],sort[len(sort)-2],sort[len(sort)-1]]\n",
    "  print('Original list is:',l)\n",
    "  print('Outliers are:',ol)\n",
    "  sort.remove(sort[0])\n",
    "  sort.remove(sort[0])\n",
    "  sort.remove(sort[len(sort)-2])\n",
    "  sort.remove(sort[len(sort)-1])\n",
    "  print('After removing outliers:',sort)\n"
   ]
  },
  {
   "cell_type": "code",
   "execution_count": 8,
   "metadata": {},
   "outputs": [
    {
     "name": "stdout",
     "output_type": "stream",
     "text": [
      "Enter size of the list: 6\n",
      "Enter number to be in the list\n",
      "54\n",
      "51\n",
      "589\n",
      "5\n",
      "82\n",
      "36\n",
      "Origal list:  [5, 36, 51, 54, 82, 589]\n",
      "Outliers are:  [5, 36, 82, 589]\n",
      "After removing outliers:  [51, 54]\n"
     ]
    }
   ],
   "source": [
    "#Method 2:\n",
    "n=int(input('Enter size of the list: '))\n",
    "l=[]\n",
    "if (n<4):\n",
    "  print(f'Size {n} is not applicable, Please enter the size more than 4') \n",
    "else:\n",
    "  print('Enter number to be in the list')\n",
    "  for i in range(1,n+1):\n",
    "    a=int(input())\n",
    "    l.append(a)\n",
    "  l=sorted(l)\n",
    "  print('Origal list: ',l)\n",
    "  a=l[2:len(l)-2]\n",
    "  li=[]\n",
    "  for i in l:\n",
    "    if i not in a:\n",
    "        li.append(i)\n",
    "  print('Outliers are: ',li)\n",
    "  print('After removing outliers: ', a)"
   ]
  },
  {
   "cell_type": "markdown",
   "metadata": {},
   "source": [
    "2. In this exercise you will create a program that identifies all of the words \n",
    "in a string entered by the user. Begin by writing a function that takes a \n",
    "string of text as its only parameter. Your function should return a list of \n",
    "the words in the string with the punctuation marks at the edges of the \n",
    "words removed. The punctuation marks that you must remove include \n",
    "commas, periods, question marks, hyphens, apostrophes, exclamation \n",
    "points, colons, and semicolons. Do not remove punctuation marks that \n",
    "appear in the middle of a words, such as the apostrophes used to form a \n",
    "contraction. For example, if your function is provided with the string\n",
    "\"Examples of contractions include: don’t, isn’t, and \n",
    "wouldn’t.\" then your function should return the list [\"Examples\",\n",
    "\"of\",\"contractions\",\"include\",\"don’t\",\"isn’t\",\"and\",\"\n",
    "wouldn’t\"].\n",
    "\n",
    "Write a main program that demonstrates your function. It should read a \n",
    "string from the user and display all of the words in the string with the \n",
    "punctuation marks removed. You will need to import your solution to \n",
    "this exercise when completing Exercise 158. As a result, you should \n",
    "ensure that your main program only runs when your file has not been \n",
    "imported into another program"
   ]
  },
  {
   "cell_type": "code",
   "execution_count": 2,
   "metadata": {},
   "outputs": [
    {
     "name": "stdout",
     "output_type": "stream",
     "text": [
      "Enter the string: Examples of contractions include: don’t, isn’t, and wouldn’t.\n",
      "After removing panctuations in the string:  ['Examples', 'of', 'contractions', 'include', 'don’t', 'isn’t', 'and', 'wouldn’t']\n"
     ]
    }
   ],
   "source": [
    "punch=''';,:?/.-!'''\n",
    "b=input('Enter the string: ')\n",
    "no_punch=''\n",
    "for i in b:\n",
    "  if i not in punch:\n",
    "    no_punch= no_punch + i\n",
    "a=no_punch.split()\n",
    "print('After removing panctuations in the string: ',a)"
   ]
  }
 ],
 "metadata": {
  "kernelspec": {
   "display_name": "Python 3",
   "language": "python",
   "name": "python3"
  },
  "language_info": {
   "codemirror_mode": {
    "name": "ipython",
    "version": 3
   },
   "file_extension": ".py",
   "mimetype": "text/x-python",
   "name": "python",
   "nbconvert_exporter": "python",
   "pygments_lexer": "ipython3",
   "version": "3.7.6"
  }
 },
 "nbformat": 4,
 "nbformat_minor": 4
}
