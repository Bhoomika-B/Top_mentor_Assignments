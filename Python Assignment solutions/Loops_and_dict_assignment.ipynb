{
  "nbformat": 4,
  "nbformat_minor": 0,
  "metadata": {
    "colab": {
      "name": "Loops and dict assignment.ipynb",
      "provenance": []
    },
    "kernelspec": {
      "name": "python3",
      "display_name": "Python 3"
    },
    "language_info": {
      "name": "python"
    }
  },
  "cells": [
    {
      "cell_type": "markdown",
      "metadata": {
        "id": "COVDmnUg3xcH"
      },
      "source": [
        "***Problems on loops***"
      ]
    },
    {
      "cell_type": "markdown",
      "metadata": {
        "id": "rKil_HI_4bjF"
      },
      "source": [
        "\n",
        "\n",
        "---\n",
        "\n"
      ]
    },
    {
      "cell_type": "markdown",
      "metadata": {
        "id": "i1SLnHWJ4oCG"
      },
      "source": [
        "1. In this exercise you will create a program that computes the average of a \n",
        "collection of values entered by the user. The user will enter 0 as a \n",
        "sentinel value to indicate that no further values will be provided. Your \n",
        "program should display an appropriate error message if the first value \n",
        "entered by the user is 0.\n"
      ]
    },
    {
      "cell_type": "code",
      "metadata": {
        "colab": {
          "base_uri": "https://localhost:8080/"
        },
        "id": "2FCIhs5N3j4a",
        "outputId": "880cad67-4bb8-4b6b-c261-fa116a7e01f1"
      },
      "source": [
        "n=int(input('Enter size of the numbers that you wnts to find average: '))\n",
        "print('Enter the numbers to find average: ')\n",
        "l=[]\n",
        "for i in range(n):\n",
        "  a=int(input())\n",
        "  l.append(a)\n",
        "  if a==0:\n",
        "    print('0 is not valid, please enter the number greater than 0')\n",
        "    break\n",
        "  average=sum(l)/len(l)  \n",
        "print(f'Average of {l} is ',average)\n",
        "\n",
        "\n",
        "  "
      ],
      "execution_count": 1,
      "outputs": [
        {
          "output_type": "stream",
          "text": [
            "Enter size of the numbers that you wnts to find average: 5\n",
            "Enter the numbers to find average: \n",
            "85\n",
            "2\n",
            "48\n",
            "95\n",
            "19\n",
            "Average of [85, 2, 48, 95, 19] is  49.8\n"
          ],
          "name": "stdout"
        }
      ]
    },
    {
      "cell_type": "markdown",
      "metadata": {
        "id": "3wMJCyYwEePY"
      },
      "source": [
        "2. A string is a palindrome if it is identical forward and backward. For \n",
        "example, “anna”, “civic”, “level” and “hannah” are all examples of \n",
        "palindromic words. Write a program that reads a string from the user \n",
        "and uses a loop to determines whether or not it is a palindrome. Display \n",
        "the result, including a meaningful output message."
      ]
    },
    {
      "cell_type": "code",
      "metadata": {
        "colab": {
          "base_uri": "https://localhost:8080/"
        },
        "id": "NjlYgdOGEf9z",
        "outputId": "b70d8f55-312d-4d4c-bcb1-328208051780"
      },
      "source": [
        "s=input('Enter the word to check a palindrome: ')\n",
        "S=s.upper()\n",
        "if (S[:]==S[::-1]):\n",
        "  print(f'The word {S} is a Palindrome')\n",
        "else:\n",
        "  print(f'The word {S} is not a plaindrome')"
      ],
      "execution_count": null,
      "outputs": [
        {
          "output_type": "stream",
          "text": [
            "Enter the word to check a palindrome: level\n",
            "The word LEVEL is a Palindrome\n"
          ],
          "name": "stdout"
        }
      ]
    },
    {
      "cell_type": "markdown",
      "metadata": {
        "id": "pfdSGL23G9gS"
      },
      "source": [
        "3. Write a program that converts a binary (base 2) number to decimal \n",
        "(base 10). Your program should begin by reading the binary number \n",
        "from the user as a string. Then it should compute the equivalent decimal \n",
        "number by processing each digit in the binary number. Finally, your \n",
        "program should display the equivalent decimal number with an \n",
        "appropriate message.\n"
      ]
    },
    {
      "cell_type": "code",
      "metadata": {
        "id": "Pvb6VQTy8i0v",
        "colab": {
          "base_uri": "https://localhost:8080/"
        },
        "outputId": "2438ec82-d539-42e0-cfd5-9230bc00f32d"
      },
      "source": [
        "n=int(input('Enter the binary number to convert into decimal number: '))\n",
        "l=str(n)\n",
        "ll=[]\n",
        "a=len(l)-1\n",
        "for i in l:\n",
        "  deci=int(i)* 2**a\n",
        "  print(f'value for {i} is {i} * 2^{a} = {deci}')\n",
        "  a=a-1\n",
        "  ll.append(deci)\n",
        "s=sum(ll)\n",
        "print(f'The conversion of binary number {n} to Demical number is {s}')\n",
        " \n"
      ],
      "execution_count": null,
      "outputs": [
        {
          "output_type": "stream",
          "text": [
            "Enter the binary number to convert into decimal number: 111\n",
            "value for 1 is 1 * 2^2 = 4\n",
            "value for 1 is 1 * 2^1 = 2\n",
            "value for 1 is 1 * 2^0 = 1\n",
            "The conversion of binary number 111 to Demical number is 7\n"
          ],
          "name": "stdout"
        }
      ]
    },
    {
      "cell_type": "markdown",
      "metadata": {
        "id": "CvqQ8VIQTnie"
      },
      "source": [
        "***Problems on Dictionary***\n",
        "\n",
        "---\n",
        "\n"
      ]
    },
    {
      "cell_type": "markdown",
      "metadata": {
        "id": "ZpbMcC0QTs7O"
      },
      "source": [
        "1. Create a program that determines and displays the number of unique \n",
        "characters in a string entered by the user. For example, Hello, World! \n",
        "has 10 unique characters while zzz has only one unique character. Use a \n",
        "dictionary or set to solve this problem.\n"
      ]
    },
    {
      "cell_type": "code",
      "metadata": {
        "colab": {
          "base_uri": "https://localhost:8080/"
        },
        "id": "pih3cZPaMoxt",
        "outputId": "2347fed0-ebed-4e96-ec9c-8bfa8b41c300"
      },
      "source": [
        "s=input('Enter the string: ')\n",
        "s.strip()\n",
        "s=s.upper()\n",
        "a=s.replace(' ','')\n",
        "e={}\n",
        "for i in a:\n",
        "  e[i]=len(i)\n",
        "u=list(e.keys())\n",
        "c=len(u)\n",
        "print(f'''Unique elements in the string: {u}\n",
        "Count of Unique elements: {c}''')\n",
        "\n",
        "  "
      ],
      "execution_count": 48,
      "outputs": [
        {
          "output_type": "stream",
          "text": [
            "Enter the string: Good girl\n",
            "Unique elements in the string: ['G', 'O', 'D', 'I', 'R', 'L']\n",
            "Count of Unique elements: 6\n"
          ],
          "name": "stdout"
        }
      ]
    },
    {
      "cell_type": "markdown",
      "metadata": {
        "id": "5YPR0MIFfVlM"
      },
      "source": [
        "2. In this exercise you will create a Python program that identifies the \n",
        "longest word(s) in a file. Your program should output an appropriate \n",
        "message that includes the length of the longest word, along with all of \n",
        "the words of that length that occurred in the file. Treat any group of \n",
        "non-white space characters as a word, even if it includes numbers or \n",
        "punctuation marks"
      ]
    },
    {
      "cell_type": "code",
      "metadata": {
        "colab": {
          "base_uri": "https://localhost:8080/"
        },
        "id": "ma1xpwmKfXe5",
        "outputId": "ea082179-5ee4-4f0f-f0ff-c7ea7179bac3"
      },
      "source": [
        "s=input('Enter string:')\n",
        "d={}\n",
        "a=s.split()\n",
        "\n",
        "for i in a:\n",
        "  d[i]=len(i)\n",
        "print(d)\n",
        "k=list(d.keys())\n",
        "val=list(d.values())\n",
        "m=max(d.values())\n",
        "n=val.index(m)\n",
        "print('The word which as Maximum lenght is ',k[n],':',max(d.values()))\n",
        "\n",
        "\n"
      ],
      "execution_count": 22,
      "outputs": [
        {
          "output_type": "stream",
          "text": [
            "Enter string:  my name is bhoomika\n",
            "{'my': 2, 'name': 4, 'is': 2, 'bhoomika': 8}\n",
            "The word which as Maximum lenght is  bhoomika : 8\n"
          ],
          "name": "stdout"
        }
      ]
    }
  ]
}